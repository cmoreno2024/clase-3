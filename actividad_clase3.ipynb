{
 "cells": [
  {
   "cell_type": "markdown",
   "metadata": {},
   "source": [
    "# PROGRAMACION II\n",
    "### ACTIVIDAD CLASE 3 EJERCICIOS DE PRACTICA CON GitHub"
   ]
  },
  {
   "cell_type": "markdown",
   "metadata": {},
   "source": [
    "1.Datos simples.\n",
    "\n",
    "Crea una lista de nombre de Ciudades. "
   ]
  },
  {
   "cell_type": "code",
   "execution_count": 1,
   "metadata": {},
   "outputs": [
    {
     "name": "stdout",
     "output_type": "stream",
     "text": [
      "['santa fe', 'cordoba', 'entre rio', 'tierra del fuego']\n"
     ]
    }
   ],
   "source": [
    "lista_ciudades= [\"santa fe\", \"cordoba\", \"entre rio\", \"tierra del fuego\"]\n",
    "print(lista_ciudades)"
   ]
  },
  {
   "cell_type": "markdown",
   "metadata": {},
   "source": [
    "Crear un diccionario con información de empleados (nombre, cargo, salario)."
   ]
  },
  {
   "cell_type": "code",
   "execution_count": 10,
   "metadata": {},
   "outputs": [
    {
     "name": "stdout",
     "output_type": "stream",
     "text": [
      "{'empleado 1': {'nombre1': 'Juan carlos', 'cargo1': 'gerente', 'salario1': 1500000}, 'empleado 2': {'nombre2': 'Candela', 'cargo2': 'supervisora', 'salarios2': 1000000}, 'empleado 3': {'nombre3': 'Paula', 'cargo3': 'administrativa', 'salarios3': 870000}}\n"
     ]
    }
   ],
   "source": [
    "info_empleados= {\n",
    "    \"empleado 1\": {\"nombre1\":\"Juan carlos\",\"cargo1\":\"gerente\",\"salario1\":1500000},\n",
    "    \"empleado 2\": {\"nombre2\":\"Candela\",\"cargo2\":\"supervisora\",\"salarios2\":1000000},\n",
    "    \"empleado 3\": {\"nombre3\":\"Paula\",\"cargo3\":\"administrativa\",\"salarios3\":870000}\n",
    "}\n",
    "print(info_empleados)"
   ]
  },
  {
   "cell_type": "markdown",
   "metadata": {},
   "source": [
    "Mostrar cómo acceder a un elemento específico en una lista y en un diccionario.\n",
    "acceder en la lista a la ciudad de \"cordoba\" y en el diccionario al nombre de la supervisora"
   ]
  },
  {
   "cell_type": "code",
   "execution_count": 10,
   "metadata": {},
   "outputs": [
    {
     "name": "stdout",
     "output_type": "stream",
     "text": [
      "la segunda ciudad de la lista es:  cordoba\n"
     ]
    }
   ],
   "source": [
    "print(\"la segunda ciudad de la lista es: \", lista_ciudades[1])"
   ]
  },
  {
   "cell_type": "code",
   "execution_count": 19,
   "metadata": {},
   "outputs": [
    {
     "name": "stdout",
     "output_type": "stream",
     "text": [
      "El nombre de la supervisora es:  Candela\n"
     ]
    }
   ],
   "source": [
    "nombre_supervisora = info_empleados.get(\"empleado 2\")\n",
    "nombre = nombre_supervisora.get(\"nombre2\")\n",
    "print(\"El nombre de la supervisora es: \",nombre)"
   ]
  },
  {
   "cell_type": "markdown",
   "metadata": {},
   "source": [
    "Manipulación de Listas y Métodos:"
   ]
  },
  {
   "cell_type": "markdown",
   "metadata": {},
   "source": [
    "Crea una lista inicial de números enteros."
   ]
  },
  {
   "cell_type": "code",
   "execution_count": 20,
   "metadata": {},
   "outputs": [
    {
     "name": "stdout",
     "output_type": "stream",
     "text": [
      "[1, 2, 3, 4, 5, 6, 7, 8]\n"
     ]
    }
   ],
   "source": [
    "lista_numeros_enteros = [1,2,3,4,5,6,7,8]\n",
    "print(lista_numeros_enteros)"
   ]
  },
  {
   "cell_type": "markdown",
   "metadata": {},
   "source": [
    "Utiliza el método .append() para agregar un número al final de la lista."
   ]
  },
  {
   "cell_type": "code",
   "execution_count": 21,
   "metadata": {},
   "outputs": [
    {
     "name": "stdout",
     "output_type": "stream",
     "text": [
      "[1, 2, 3, 4, 5, 6, 7, 8, 9]\n"
     ]
    }
   ],
   "source": [
    "lista_numeros_enteros.append(9)\n",
    "print(lista_numeros_enteros)"
   ]
  },
  {
   "cell_type": "markdown",
   "metadata": {},
   "source": [
    "Utiliza el método .extend() para agregar múltiples elementos a la lista."
   ]
  },
  {
   "cell_type": "code",
   "execution_count": 22,
   "metadata": {},
   "outputs": [
    {
     "name": "stdout",
     "output_type": "stream",
     "text": [
      "[1, 2, 3, 4, 5, 6, 7, 8, 9, 10, 11, 12]\n"
     ]
    }
   ],
   "source": [
    "lista_extendida= [10,11,12]\n",
    "lista_numeros_enteros.extend(lista_extendida)\n",
    "print(lista_numeros_enteros)"
   ]
  },
  {
   "cell_type": "markdown",
   "metadata": {},
   "source": [
    "Utiliza el método .insert() para insertar un número en una posición específica de la lista. (voy agregar el numero 13 en la posicion de indice 4)"
   ]
  },
  {
   "cell_type": "code",
   "execution_count": 23,
   "metadata": {},
   "outputs": [
    {
     "name": "stdout",
     "output_type": "stream",
     "text": [
      "[1, 2, 3, 4, 13, 5, 6, 7, 8, 9, 10, 11, 12]\n"
     ]
    }
   ],
   "source": [
    "lista_numeros_enteros.insert(4,13)\n",
    "print(lista_numeros_enteros)"
   ]
  },
  {
   "cell_type": "markdown",
   "metadata": {},
   "source": [
    "Muestra cómo utilizar el método .sort() para ordenar la lista de números de forma ascendente."
   ]
  },
  {
   "cell_type": "code",
   "execution_count": 24,
   "metadata": {},
   "outputs": [
    {
     "name": "stdout",
     "output_type": "stream",
     "text": [
      "[1, 2, 3, 4, 5, 6, 7, 8, 9, 10, 11, 12, 13]\n"
     ]
    }
   ],
   "source": [
    "lista_numeros_enteros.sort()\n",
    "print(lista_numeros_enteros)"
   ]
  },
  {
   "cell_type": "markdown",
   "metadata": {},
   "source": [
    "#Manipulación de Diccionarios y Métodos:"
   ]
  },
  {
   "cell_type": "markdown",
   "metadata": {},
   "source": [
    "Crea un diccionario con información de productos (nombre del producto, precio, cantidad en stock)."
   ]
  },
  {
   "cell_type": "code",
   "execution_count": 25,
   "metadata": {},
   "outputs": [
    {
     "name": "stdout",
     "output_type": "stream",
     "text": [
      "{'producto1': {'nombre': 'remera', 'precio': 8000, 'cant. en stock': 10}, 'producto2': {'nombre': 'pantalon', 'precio': 12000, 'cant. en stock': 15}, 'producto3': {'nombre': 'medias', 'precio': 2000, 'cant.en stock': 5}}\n"
     ]
    }
   ],
   "source": [
    "informacion_producto= {\n",
    "    \"producto1\": {\"nombre\":\"remera\",\"precio\":8000, \"cant. en stock\":10},\n",
    "    \"producto2\":{\"nombre\":\"pantalon\",\"precio\":12000, \"cant. en stock\":15},\n",
    "    \"producto3\":{\"nombre\":\"medias\",\"precio\":2000, \"cant.en stock\":5}\n",
    "}\n",
    "print(informacion_producto)"
   ]
  },
  {
   "cell_type": "markdown",
   "metadata": {},
   "source": [
    "Utiliza el método .keys() para obtener una lista de las llaves (nombres de productos) en el diccionario."
   ]
  },
  {
   "cell_type": "code",
   "execution_count": 28,
   "metadata": {},
   "outputs": [
    {
     "data": {
      "text/plain": [
       "dict_keys(['producto1', 'producto2', 'producto3'])"
      ]
     },
     "execution_count": 28,
     "metadata": {},
     "output_type": "execute_result"
    }
   ],
   "source": [
    "informacion_producto.keys()"
   ]
  },
  {
   "cell_type": "markdown",
   "metadata": {},
   "source": [
    "Utiliza el método .values() para obtener una lista de los valores (precios y cantidades) en el diccionario."
   ]
  },
  {
   "cell_type": "code",
   "execution_count": 43,
   "metadata": {},
   "outputs": [
    {
     "name": "stdout",
     "output_type": "stream",
     "text": [
      "Los valores del producto 1 son:  dict_values(['remera', 8000, 10])\n",
      "Los valores del producto 2 son:  dict_values(['pantalon', 12000, 15])\n",
      "Los valores del producto 3 son:  dict_values(['medias', 2000, 5])\n"
     ]
    }
   ],
   "source": [
    "producto1= informacion_producto.get(\"producto1\")\n",
    "producto2= informacion_producto.get(\"producto2\")\n",
    "producto3= informacion_producto.get(\"producto3\")\n",
    "print(\"Los valores del producto 1 son: \", producto1.values())\n",
    "print(\"Los valores del producto 2 son: \", producto2.values())\n",
    "print(\"Los valores del producto 3 son: \", producto3.values())\n",
    "\n",
    "\n"
   ]
  },
  {
   "cell_type": "markdown",
   "metadata": {},
   "source": [
    "Utiliza el método .items() para obtener una lista de tuplas con pares clave-valor del diccionario."
   ]
  },
  {
   "cell_type": "code",
   "execution_count": 44,
   "metadata": {},
   "outputs": [
    {
     "name": "stdout",
     "output_type": "stream",
     "text": [
      "los valores de clave valor son:  dict_items([('producto1', {'nombre': 'remera', 'precio': 8000, 'cant. en stock': 10}), ('producto2', {'nombre': 'pantalon', 'precio': 12000, 'cant. en stock': 15}), ('producto3', {'nombre': 'medias', 'precio': 2000, 'cant.en stock': 5})])\n"
     ]
    }
   ],
   "source": [
    "print(\"los valores de clave valor son: \", informacion_producto.items())"
   ]
  },
  {
   "cell_type": "markdown",
   "metadata": {},
   "source": [
    "Muestra cómo utilizar el método .get() para obtener el precio de un producto específico del diccionario."
   ]
  },
  {
   "cell_type": "code",
   "execution_count": 46,
   "metadata": {},
   "outputs": [
    {
     "name": "stdout",
     "output_type": "stream",
     "text": [
      "El precio de la remera es: 8000\n"
     ]
    }
   ],
   "source": [
    "precio_producto= informacion_producto.get(\"producto1\")\n",
    "print(\"El precio de la remera es:\" , precio_producto.get(\"precio\"))"
   ]
  },
  {
   "cell_type": "markdown",
   "metadata": {},
   "source": [
    "Datos Complejos:"
   ]
  },
  {
   "cell_type": "markdown",
   "metadata": {},
   "source": [
    "Crear una lista de diccionarios que represente información de libros (título, autor, año de publicación)."
   ]
  },
  {
   "cell_type": "code",
   "execution_count": 53,
   "metadata": {},
   "outputs": [
    {
     "name": "stdout",
     "output_type": "stream",
     "text": [
      "[{'titulo': 'el principito', 'autor': 'antoine de saind', 'año de publicacion': 1943}, {'titulo': 'el diario', 'autor': 'ana frank', 'año de publicacion': 1947}, {'titulo': 'cien años de soledad', 'autor': 'garcia marques', 'año de publicacion': 1967}]\n",
      "<class 'list'>\n"
     ]
    }
   ],
   "source": [
    "libro= [{\"titulo\":\"el principito\", \"autor\":\"antoine de saind\", \"año de publicacion\": 1943},\n",
    "        {\"titulo\":\"el diario\", \"autor\":\"ana frank\", \"año de publicacion\":1947},\n",
    "        {\"titulo\":\"cien años de soledad\",\"autor\":\"garcia marques\", \"año de publicacion\":1967}\n",
    "]\n",
    "print(libro)\n",
    "print(type(libro))"
   ]
  },
  {
   "cell_type": "markdown",
   "metadata": {},
   "source": [
    "Crear un diccionario que contenga listas como valores (por ejemplo, un diccionario de estudiantes y sus materias)."
   ]
  },
  {
   "cell_type": "code",
   "execution_count": 61,
   "metadata": {},
   "outputs": [
    {
     "name": "stdout",
     "output_type": "stream",
     "text": [
      "{'estudiante1': ['camila', 'filosofia', 'matematica'], 'estudiante2': ['federico', 'ingles', 'quimica'], 'estudiante3': ['julian', 'literatura', 'psicologia']}\n",
      "<class 'dict'>\n"
     ]
    }
   ],
   "source": [
    "estudiantes_materias= {\n",
    "    \"estudiante1\":[\"camila\", \"filosofia\",\"matematica\"],\n",
    "    \"estudiante2\":[\"federico\",\"ingles\",\"quimica\"],\n",
    "    \"estudiante3\":[\"julian\", \"literatura\",\"psicologia\"]}\n",
    "print(estudiantes_materias)\n",
    "print(type(estudiantes_materias))"
   ]
  },
  {
   "cell_type": "markdown",
   "metadata": {},
   "source": [
    "Mostrar cómo modificar un valor en una lista dentro de un diccionario y viceversa."
   ]
  },
  {
   "cell_type": "code",
   "execution_count": 63,
   "metadata": {},
   "outputs": [
    {
     "name": "stdout",
     "output_type": "stream",
     "text": [
      "{'estudiante1': ('nicolas', 'arte', 'tecnologia'), 'estudiante2': ['federico', 'ingles', 'quimica'], 'estudiante3': ['julian', 'literatura', 'psicologia']}\n",
      "[{'titulo': 'el sapo', 'autor': 'camila ruiz', 'año de publicacion': 2003}, {'titulo': 'el diario', 'autor': 'ana frank', 'año de publicacion': 1947}, {'titulo': 'cien años de soledad', 'autor': 'garcia marques', 'año de publicacion': 1967}]\n"
     ]
    }
   ],
   "source": [
    "estudiantes_materias[\"estudiante1\"]= \"nicolas\",\"arte\",\"tecnologia\"\n",
    "print(estudiantes_materias)\n",
    "libro[0]= {\"titulo\":\"el sapo\", \"autor\":\"camila ruiz\", \"año de publicacion\": 2003}\n",
    "print(libro)"
   ]
  }
 ],
 "metadata": {
  "kernelspec": {
   "display_name": "Python 3",
   "language": "python",
   "name": "python3"
  },
  "language_info": {
   "codemirror_mode": {
    "name": "ipython",
    "version": 3
   },
   "file_extension": ".py",
   "mimetype": "text/x-python",
   "name": "python",
   "nbconvert_exporter": "python",
   "pygments_lexer": "ipython3",
   "version": "3.12.0"
  }
 },
 "nbformat": 4,
 "nbformat_minor": 2
}
